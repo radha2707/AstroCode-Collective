{
 "cells": [
  {
   "cell_type": "code",
   "execution_count": 1,
   "metadata": {},
   "outputs": [
    {
     "name": "stdout",
     "output_type": "stream",
     "text": [
      "Spectrum saved to quickstart.dat\n"
     ]
    }
   ],
   "source": [
    "import numpy as np\n",
    "\n",
    "# Function to parse the .par file\n",
    "def parse_par_file(par_file):\n",
    "    params = {}\n",
    "    with open(par_file, 'r') as file:\n",
    "        for line in file:\n",
    "            line = line.strip()\n",
    "            if line and not line.startswith('#') and '=' in line:\n",
    "                key, value = line.split('=', 1)\n",
    "                params[key.strip()] = value.split('#')[0].strip()  # Remove comments\n",
    "    return params\n",
    "\n",
    "# Function to generate a synthetic spectrum\n",
    "def generate_spectrum(wavelength_range, planet_radius, temperature, h2o_abundance):\n",
    "    wavelengths = np.linspace(wavelength_range[0], wavelength_range[1], 100)\n",
    "    # Simple model: transit depth scaling with H2O absorption and temperature\n",
    "    transit_depth = (planet_radius**2) + h2o_abundance * np.exp(-wavelengths / temperature)\n",
    "    errors = np.full_like(wavelengths, 0.0001)  # Mock error\n",
    "    return wavelengths, transit_depth, errors\n",
    "\n",
    "# Function to save the spectrum to a .dat file\n",
    "def save_to_dat(wavelengths, transit_depth, errors, output_file):\n",
    "    with open(output_file, 'w') as file:\n",
    "        for w, t, e in zip(wavelengths, transit_depth, errors):\n",
    "            file.write(f\"{w:.6e} {t:.6e} {e:.6e}\\n\")\n",
    "\n",
    "# Main function to convert .par file to .dat file\n",
    "def par_to_dat(par_file, output_file):\n",
    "    params = parse_par_file(par_file)\n",
    "\n",
    "    # Extract necessary parameters with defaults\n",
    "    planet_radius = float(params.get('planet_radius', 1.0))  # Default to 1 Jupiter radius\n",
    "    temperature = float(params.get('T', 1200))  # Default to 1200 K\n",
    "    h2o_abundance = float(params.get('mix_ratio', 1e-4))  # Default H2O abundance\n",
    "    wavelength_range = [0.5, 2.5]  # Default range in microns\n",
    "\n",
    "    # Generate synthetic spectrum\n",
    "    wavelengths, transit_depth, errors = generate_spectrum(wavelength_range, planet_radius, temperature, h2o_abundance)\n",
    "\n",
    "    # Save spectrum to .dat file\n",
    "    save_to_dat(wavelengths, transit_depth, errors, output_file)\n",
    "    print(f\"Spectrum saved to {output_file}\")\n",
    "\n",
    "# Example usage\n",
    "par_file = \"quickstart.par\"\n",
    "output_file = \"quickstart.dat\"\n",
    "par_to_dat(par_file, output_file)"
   ]
  },
  {
   "cell_type": "code",
   "execution_count": null,
   "metadata": {},
   "outputs": [],
   "source": []
  }
 ],
 "metadata": {
  "kernelspec": {
   "display_name": "acc_env",
   "language": "python",
   "name": "acc_env"
  },
  "language_info": {
   "codemirror_mode": {
    "name": "ipython",
    "version": 3
   },
   "file_extension": ".py",
   "mimetype": "text/x-python",
   "name": "python",
   "nbconvert_exporter": "python",
   "pygments_lexer": "ipython3",
   "version": "3.9.20"
  }
 },
 "nbformat": 4,
 "nbformat_minor": 2
}
