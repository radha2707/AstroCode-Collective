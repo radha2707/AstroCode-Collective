{
 "cells": [
  {
   "cell_type": "markdown",
   "metadata": {
    "_uuid": "2bba6a15c8e257d2ac514ab85cd2cc92ed213ba2"
   },
   "source": [
    "Medium post: https://medium.com/@gabogarza/exoplanet-hunting-with-machine-learning-and-kepler-data-recall-100-155e1ddeaa95\n",
    "\n",
    "Github repo: https://github.com/gabrielgarza/exoplanet-deep-learning"
   ]
  },
  {
   "cell_type": "markdown",
   "metadata": {
    "_uuid": "b6b2254965f03e535cb73f1abf3bba4ec5c3cfe4"
   },
   "source": [
    "### Import libraries"
   ]
  },
  {
   "cell_type": "code",
   "execution_count": 4,
   "metadata": {
    "_cell_guid": "b1076dfc-b9ad-4769-8c92-a6c4dae69d19",
    "_uuid": "8f2839f25d086af736a60e9eeb907d3b93b6e0e5",
    "trusted": true
   },
   "outputs": [
    {
     "name": "stdout",
     "output_type": "stream",
     "text": [
      "['exoTest.csv', 'exoTrain.csv']\n"
     ]
    }
   ],
   "source": [
    "import pandas as pd\n",
    "import numpy as np\n",
    "import matplotlib.pyplot as plt\n",
    "import math\n",
    "import time\n",
    "from pathlib import Path\n",
    "from sklearn.model_selection import train_test_split\n",
    "from sklearn.metrics import classification_report\n",
    "from sklearn.utils import shuffle\n",
    "from sklearn.metrics import accuracy_score, precision_score, recall_score, confusion_matrix\n",
    "from sklearn.svm import SVC, LinearSVC, NuSVC\n",
    "from scipy import ndimage, fft\n",
    "from sklearn.preprocessing import normalize\n",
    "import os\n",
    "root_dir = \"/ca24/ext_volume/AstroCode-Collective/data_no_injection\" #path_to_data/\n",
    "print(os.listdir(root_dir))\n"
   ]
  },
  {
   "cell_type": "markdown",
   "metadata": {
    "_uuid": "d28cb86655c3af600b8377e7de783c488c2e3676"
   },
   "source": [
    "## Data Preprocessor"
   ]
  },
  {
   "cell_type": "code",
   "execution_count": 5,
   "metadata": {
    "_uuid": "87e08df975d26a6d05feb1005931fa20ad450fde",
    "collapsed": true,
    "trusted": true
   },
   "outputs": [],
   "source": [
    "import pandas as pd\n",
    "import numpy as np\n",
    "from scipy import ndimage, fft\n",
    "from sklearn.preprocessing import normalize, StandardScaler, MinMaxScaler\n",
    "\n",
    "class LightFluxProcessor:\n",
    "\n",
    "    def __init__(self, fourier=True, normalize=True, gaussian=True, standardize=True):\n",
    "        self.fourier = fourier\n",
    "        self.normalize = normalize\n",
    "        self.gaussian = gaussian\n",
    "        self.standardize = standardize\n",
    "\n",
    "    def fourier_transform(self, X):\n",
    "        return np.abs(fft.fft(X.values, n=X.size))\n",
    "\n",
    "    def process(self, df_train_x, df_dev_x):\n",
    "        # Apply fourier transform\n",
    "        if self.fourier:\n",
    "            print(\"Applying Fourier...\")\n",
    "            shape_train = df_train_x.shape\n",
    "            shape_dev = df_dev_x.shape\n",
    "            df_train_x = df_train_x.apply(self.fourier_transform,axis=1)\n",
    "            df_dev_x = df_dev_x.apply(self.fourier_transform,axis=1)\n",
    "\n",
    "            df_train_x_build = np.zeros(shape_train)\n",
    "            df_dev_x_build = np.zeros(shape_dev)\n",
    "\n",
    "            for ii, x in enumerate(df_train_x):\n",
    "                df_train_x_build[ii] = x\n",
    "\n",
    "            for ii, x in enumerate(df_dev_x):\n",
    "                df_dev_x_build[ii] = x\n",
    "            \n",
    "            df_train_x = pd.DataFrame(df_train_x_build)\n",
    "            df_dev_x = pd.DataFrame(df_dev_x_build)\n",
    "\n",
    "\n",
    "            # Keep first half of data as it is symmetrical after previous steps\n",
    "            df_train_x = df_train_x.iloc[:,:(df_train_x.shape[1]//2)].values\n",
    "            df_dev_x = df_dev_x.iloc[:,:(df_dev_x.shape[1]//2)].values\n",
    "\n",
    "        # Normalize\n",
    "        if self.normalize:\n",
    "            print(\"Normalizing...\")\n",
    "            df_train_x = pd.DataFrame(normalize(df_train_x))\n",
    "            df_dev_x = pd.DataFrame(normalize(df_dev_x))\n",
    "\n",
    "            # df_train_x = df_train_x.div(df_train_x.sum(axis=1), axis=0)\n",
    "            # df_dev_x = df_dev_x.div(df_dev_x.sum(axis=1), axis=0)\n",
    "\n",
    "\n",
    "        # Gaussian filter to smooth out data\n",
    "        if self.gaussian:\n",
    "            print(\"Applying Gaussian Filter...\")\n",
    "            df_train_x = ndimage.gaussian_filter(df_train_x, sigma=10)\n",
    "            df_dev_x = ndimage.gaussian_filter(df_dev_x, sigma=10)\n",
    "\n",
    "        if self.standardize:\n",
    "            # Standardize X data\n",
    "            print(\"Standardizing...\")\n",
    "            std_scaler = StandardScaler()\n",
    "            df_train_x = std_scaler.fit_transform(df_train_x)\n",
    "            df_dev_x = std_scaler.transform(df_dev_x)\n",
    "\n",
    "        print(\"Finished Processing!\")\n",
    "        return df_train_x, df_dev_x\n"
   ]
  },
  {
   "cell_type": "markdown",
   "metadata": {
    "_uuid": "c17634d1b3ecb3fd7b361d19c8774df26dac4ea2"
   },
   "source": [
    "### Load datasets"
   ]
  },
  {
   "cell_type": "code",
   "execution_count": 6,
   "metadata": {
    "_uuid": "8aef4d6898bf06a2414a3a675a1fa9400f97cbd6",
    "trusted": true
   },
   "outputs": [
    {
     "name": "stdout",
     "output_type": "stream",
     "text": [
      "Loading datasets...\n",
      "Loaded datasets!\n"
     ]
    },
    {
     "data": {
      "text/html": [
       "<div>\n",
       "<style scoped>\n",
       "    .dataframe tbody tr th:only-of-type {\n",
       "        vertical-align: middle;\n",
       "    }\n",
       "\n",
       "    .dataframe tbody tr th {\n",
       "        vertical-align: top;\n",
       "    }\n",
       "\n",
       "    .dataframe thead th {\n",
       "        text-align: right;\n",
       "    }\n",
       "</style>\n",
       "<table border=\"1\" class=\"dataframe\">\n",
       "  <thead>\n",
       "    <tr style=\"text-align: right;\">\n",
       "      <th></th>\n",
       "      <th>LABEL</th>\n",
       "      <th>FLUX.1</th>\n",
       "      <th>FLUX.2</th>\n",
       "      <th>FLUX.3</th>\n",
       "      <th>FLUX.4</th>\n",
       "      <th>FLUX.5</th>\n",
       "      <th>FLUX.6</th>\n",
       "      <th>FLUX.7</th>\n",
       "      <th>FLUX.8</th>\n",
       "      <th>FLUX.9</th>\n",
       "      <th>...</th>\n",
       "      <th>FLUX.3188</th>\n",
       "      <th>FLUX.3189</th>\n",
       "      <th>FLUX.3190</th>\n",
       "      <th>FLUX.3191</th>\n",
       "      <th>FLUX.3192</th>\n",
       "      <th>FLUX.3193</th>\n",
       "      <th>FLUX.3194</th>\n",
       "      <th>FLUX.3195</th>\n",
       "      <th>FLUX.3196</th>\n",
       "      <th>FLUX.3197</th>\n",
       "    </tr>\n",
       "  </thead>\n",
       "  <tbody>\n",
       "    <tr>\n",
       "      <th>0</th>\n",
       "      <td>2</td>\n",
       "      <td>93.85</td>\n",
       "      <td>83.81</td>\n",
       "      <td>20.10</td>\n",
       "      <td>-26.98</td>\n",
       "      <td>-39.56</td>\n",
       "      <td>-124.71</td>\n",
       "      <td>-135.18</td>\n",
       "      <td>-96.27</td>\n",
       "      <td>-79.89</td>\n",
       "      <td>...</td>\n",
       "      <td>-78.07</td>\n",
       "      <td>-102.15</td>\n",
       "      <td>-102.15</td>\n",
       "      <td>25.13</td>\n",
       "      <td>48.57</td>\n",
       "      <td>92.54</td>\n",
       "      <td>39.32</td>\n",
       "      <td>61.42</td>\n",
       "      <td>5.08</td>\n",
       "      <td>-39.54</td>\n",
       "    </tr>\n",
       "    <tr>\n",
       "      <th>1</th>\n",
       "      <td>2</td>\n",
       "      <td>-38.88</td>\n",
       "      <td>-33.83</td>\n",
       "      <td>-58.54</td>\n",
       "      <td>-40.09</td>\n",
       "      <td>-79.31</td>\n",
       "      <td>-72.81</td>\n",
       "      <td>-86.55</td>\n",
       "      <td>-85.33</td>\n",
       "      <td>-83.97</td>\n",
       "      <td>...</td>\n",
       "      <td>-3.28</td>\n",
       "      <td>-32.21</td>\n",
       "      <td>-32.21</td>\n",
       "      <td>-24.89</td>\n",
       "      <td>-4.86</td>\n",
       "      <td>0.76</td>\n",
       "      <td>-11.70</td>\n",
       "      <td>6.46</td>\n",
       "      <td>16.00</td>\n",
       "      <td>19.93</td>\n",
       "    </tr>\n",
       "    <tr>\n",
       "      <th>2</th>\n",
       "      <td>2</td>\n",
       "      <td>532.64</td>\n",
       "      <td>535.92</td>\n",
       "      <td>513.73</td>\n",
       "      <td>496.92</td>\n",
       "      <td>456.45</td>\n",
       "      <td>466.00</td>\n",
       "      <td>464.50</td>\n",
       "      <td>486.39</td>\n",
       "      <td>436.56</td>\n",
       "      <td>...</td>\n",
       "      <td>-71.69</td>\n",
       "      <td>13.31</td>\n",
       "      <td>13.31</td>\n",
       "      <td>-29.89</td>\n",
       "      <td>-20.88</td>\n",
       "      <td>5.06</td>\n",
       "      <td>-11.80</td>\n",
       "      <td>-28.91</td>\n",
       "      <td>-70.02</td>\n",
       "      <td>-96.67</td>\n",
       "    </tr>\n",
       "    <tr>\n",
       "      <th>3</th>\n",
       "      <td>2</td>\n",
       "      <td>326.52</td>\n",
       "      <td>347.39</td>\n",
       "      <td>302.35</td>\n",
       "      <td>298.13</td>\n",
       "      <td>317.74</td>\n",
       "      <td>312.70</td>\n",
       "      <td>322.33</td>\n",
       "      <td>311.31</td>\n",
       "      <td>312.42</td>\n",
       "      <td>...</td>\n",
       "      <td>5.71</td>\n",
       "      <td>-3.73</td>\n",
       "      <td>-3.73</td>\n",
       "      <td>30.05</td>\n",
       "      <td>20.03</td>\n",
       "      <td>-12.67</td>\n",
       "      <td>-8.77</td>\n",
       "      <td>-17.31</td>\n",
       "      <td>-17.35</td>\n",
       "      <td>13.98</td>\n",
       "    </tr>\n",
       "    <tr>\n",
       "      <th>4</th>\n",
       "      <td>2</td>\n",
       "      <td>-1107.21</td>\n",
       "      <td>-1112.59</td>\n",
       "      <td>-1118.95</td>\n",
       "      <td>-1095.10</td>\n",
       "      <td>-1057.55</td>\n",
       "      <td>-1034.48</td>\n",
       "      <td>-998.34</td>\n",
       "      <td>-1022.71</td>\n",
       "      <td>-989.57</td>\n",
       "      <td>...</td>\n",
       "      <td>-594.37</td>\n",
       "      <td>-401.66</td>\n",
       "      <td>-401.66</td>\n",
       "      <td>-357.24</td>\n",
       "      <td>-443.76</td>\n",
       "      <td>-438.54</td>\n",
       "      <td>-399.71</td>\n",
       "      <td>-384.65</td>\n",
       "      <td>-411.79</td>\n",
       "      <td>-510.54</td>\n",
       "    </tr>\n",
       "    <tr>\n",
       "      <th>...</th>\n",
       "      <td>...</td>\n",
       "      <td>...</td>\n",
       "      <td>...</td>\n",
       "      <td>...</td>\n",
       "      <td>...</td>\n",
       "      <td>...</td>\n",
       "      <td>...</td>\n",
       "      <td>...</td>\n",
       "      <td>...</td>\n",
       "      <td>...</td>\n",
       "      <td>...</td>\n",
       "      <td>...</td>\n",
       "      <td>...</td>\n",
       "      <td>...</td>\n",
       "      <td>...</td>\n",
       "      <td>...</td>\n",
       "      <td>...</td>\n",
       "      <td>...</td>\n",
       "      <td>...</td>\n",
       "      <td>...</td>\n",
       "      <td>...</td>\n",
       "    </tr>\n",
       "    <tr>\n",
       "      <th>5082</th>\n",
       "      <td>1</td>\n",
       "      <td>-91.91</td>\n",
       "      <td>-92.97</td>\n",
       "      <td>-78.76</td>\n",
       "      <td>-97.33</td>\n",
       "      <td>-68.00</td>\n",
       "      <td>-68.24</td>\n",
       "      <td>-75.48</td>\n",
       "      <td>-49.25</td>\n",
       "      <td>-30.92</td>\n",
       "      <td>...</td>\n",
       "      <td>139.95</td>\n",
       "      <td>147.26</td>\n",
       "      <td>156.95</td>\n",
       "      <td>155.64</td>\n",
       "      <td>156.36</td>\n",
       "      <td>151.75</td>\n",
       "      <td>-24.45</td>\n",
       "      <td>-17.00</td>\n",
       "      <td>3.23</td>\n",
       "      <td>19.28</td>\n",
       "    </tr>\n",
       "    <tr>\n",
       "      <th>5083</th>\n",
       "      <td>1</td>\n",
       "      <td>989.75</td>\n",
       "      <td>891.01</td>\n",
       "      <td>908.53</td>\n",
       "      <td>851.83</td>\n",
       "      <td>755.11</td>\n",
       "      <td>615.78</td>\n",
       "      <td>595.77</td>\n",
       "      <td>458.87</td>\n",
       "      <td>492.84</td>\n",
       "      <td>...</td>\n",
       "      <td>-26.50</td>\n",
       "      <td>-4.84</td>\n",
       "      <td>-76.30</td>\n",
       "      <td>-37.84</td>\n",
       "      <td>-153.83</td>\n",
       "      <td>-136.16</td>\n",
       "      <td>38.03</td>\n",
       "      <td>100.28</td>\n",
       "      <td>-45.64</td>\n",
       "      <td>35.58</td>\n",
       "    </tr>\n",
       "    <tr>\n",
       "      <th>5084</th>\n",
       "      <td>1</td>\n",
       "      <td>273.39</td>\n",
       "      <td>278.00</td>\n",
       "      <td>261.73</td>\n",
       "      <td>236.99</td>\n",
       "      <td>280.73</td>\n",
       "      <td>264.90</td>\n",
       "      <td>252.92</td>\n",
       "      <td>254.88</td>\n",
       "      <td>237.60</td>\n",
       "      <td>...</td>\n",
       "      <td>-26.82</td>\n",
       "      <td>-53.89</td>\n",
       "      <td>-48.71</td>\n",
       "      <td>30.99</td>\n",
       "      <td>15.96</td>\n",
       "      <td>-3.47</td>\n",
       "      <td>65.73</td>\n",
       "      <td>88.42</td>\n",
       "      <td>79.07</td>\n",
       "      <td>79.43</td>\n",
       "    </tr>\n",
       "    <tr>\n",
       "      <th>5085</th>\n",
       "      <td>1</td>\n",
       "      <td>3.82</td>\n",
       "      <td>2.09</td>\n",
       "      <td>-3.29</td>\n",
       "      <td>-2.88</td>\n",
       "      <td>1.66</td>\n",
       "      <td>-0.75</td>\n",
       "      <td>3.85</td>\n",
       "      <td>-0.03</td>\n",
       "      <td>3.28</td>\n",
       "      <td>...</td>\n",
       "      <td>10.86</td>\n",
       "      <td>-3.23</td>\n",
       "      <td>-5.10</td>\n",
       "      <td>-4.61</td>\n",
       "      <td>-9.82</td>\n",
       "      <td>-1.50</td>\n",
       "      <td>-4.65</td>\n",
       "      <td>-14.55</td>\n",
       "      <td>-6.41</td>\n",
       "      <td>-2.55</td>\n",
       "    </tr>\n",
       "    <tr>\n",
       "      <th>5086</th>\n",
       "      <td>1</td>\n",
       "      <td>323.28</td>\n",
       "      <td>306.36</td>\n",
       "      <td>293.16</td>\n",
       "      <td>287.67</td>\n",
       "      <td>249.89</td>\n",
       "      <td>218.30</td>\n",
       "      <td>188.86</td>\n",
       "      <td>178.93</td>\n",
       "      <td>118.93</td>\n",
       "      <td>...</td>\n",
       "      <td>71.19</td>\n",
       "      <td>0.97</td>\n",
       "      <td>55.20</td>\n",
       "      <td>-1.63</td>\n",
       "      <td>-5.50</td>\n",
       "      <td>-25.33</td>\n",
       "      <td>-41.31</td>\n",
       "      <td>-16.72</td>\n",
       "      <td>-14.09</td>\n",
       "      <td>27.82</td>\n",
       "    </tr>\n",
       "  </tbody>\n",
       "</table>\n",
       "<p>5087 rows × 3198 columns</p>\n",
       "</div>"
      ],
      "text/plain": [
       "      LABEL   FLUX.1   FLUX.2   FLUX.3   FLUX.4   FLUX.5   FLUX.6  FLUX.7  \\\n",
       "0         2    93.85    83.81    20.10   -26.98   -39.56  -124.71 -135.18   \n",
       "1         2   -38.88   -33.83   -58.54   -40.09   -79.31   -72.81  -86.55   \n",
       "2         2   532.64   535.92   513.73   496.92   456.45   466.00  464.50   \n",
       "3         2   326.52   347.39   302.35   298.13   317.74   312.70  322.33   \n",
       "4         2 -1107.21 -1112.59 -1118.95 -1095.10 -1057.55 -1034.48 -998.34   \n",
       "...     ...      ...      ...      ...      ...      ...      ...     ...   \n",
       "5082      1   -91.91   -92.97   -78.76   -97.33   -68.00   -68.24  -75.48   \n",
       "5083      1   989.75   891.01   908.53   851.83   755.11   615.78  595.77   \n",
       "5084      1   273.39   278.00   261.73   236.99   280.73   264.90  252.92   \n",
       "5085      1     3.82     2.09    -3.29    -2.88     1.66    -0.75    3.85   \n",
       "5086      1   323.28   306.36   293.16   287.67   249.89   218.30  188.86   \n",
       "\n",
       "       FLUX.8  FLUX.9  ...  FLUX.3188  FLUX.3189  FLUX.3190  FLUX.3191  \\\n",
       "0      -96.27  -79.89  ...     -78.07    -102.15    -102.15      25.13   \n",
       "1      -85.33  -83.97  ...      -3.28     -32.21     -32.21     -24.89   \n",
       "2      486.39  436.56  ...     -71.69      13.31      13.31     -29.89   \n",
       "3      311.31  312.42  ...       5.71      -3.73      -3.73      30.05   \n",
       "4    -1022.71 -989.57  ...    -594.37    -401.66    -401.66    -357.24   \n",
       "...       ...     ...  ...        ...        ...        ...        ...   \n",
       "5082   -49.25  -30.92  ...     139.95     147.26     156.95     155.64   \n",
       "5083   458.87  492.84  ...     -26.50      -4.84     -76.30     -37.84   \n",
       "5084   254.88  237.60  ...     -26.82     -53.89     -48.71      30.99   \n",
       "5085    -0.03    3.28  ...      10.86      -3.23      -5.10      -4.61   \n",
       "5086   178.93  118.93  ...      71.19       0.97      55.20      -1.63   \n",
       "\n",
       "      FLUX.3192  FLUX.3193  FLUX.3194  FLUX.3195  FLUX.3196  FLUX.3197  \n",
       "0         48.57      92.54      39.32      61.42       5.08     -39.54  \n",
       "1         -4.86       0.76     -11.70       6.46      16.00      19.93  \n",
       "2        -20.88       5.06     -11.80     -28.91     -70.02     -96.67  \n",
       "3         20.03     -12.67      -8.77     -17.31     -17.35      13.98  \n",
       "4       -443.76    -438.54    -399.71    -384.65    -411.79    -510.54  \n",
       "...         ...        ...        ...        ...        ...        ...  \n",
       "5082     156.36     151.75     -24.45     -17.00       3.23      19.28  \n",
       "5083    -153.83    -136.16      38.03     100.28     -45.64      35.58  \n",
       "5084      15.96      -3.47      65.73      88.42      79.07      79.43  \n",
       "5085      -9.82      -1.50      -4.65     -14.55      -6.41      -2.55  \n",
       "5086      -5.50     -25.33     -41.31     -16.72     -14.09      27.82  \n",
       "\n",
       "[5087 rows x 3198 columns]"
      ]
     },
     "execution_count": 6,
     "metadata": {},
     "output_type": "execute_result"
    }
   ],
   "source": [
    "import os\n",
    "train_dataset_path = os.path.join(root_dir, \"./exoTrain.csv\")\n",
    "dev_dataset_path = os.path.join(root_dir, \"./exoTest.csv\")\n",
    "\n",
    "print(\"Loading datasets...\")\n",
    "df_train = pd.read_csv(train_dataset_path, encoding = \"ISO-8859-1\")\n",
    "df_dev = pd.read_csv(dev_dataset_path, encoding = \"ISO-8859-1\")\n",
    "print(\"Loaded datasets!\")\n",
    "\n",
    "# Generate X and Y dataframe sets\n",
    "df_train_x = df_train.drop('LABEL', axis=1)\n",
    "df_dev_x = df_dev.drop('LABEL', axis=1)\n",
    "df_train_y = df_train.LABEL\n",
    "df_dev_y = df_dev.LABEL\n",
    "df_train"
   ]
  },
  {
   "cell_type": "code",
   "execution_count": 7,
   "metadata": {},
   "outputs": [
    {
     "data": {
      "application/vnd.jupyter.widget-view+json": {
       "model_id": "301a9d0cfad049e2a0ca962204b40600",
       "version_major": 2,
       "version_minor": 0
      },
      "image/png": "[encoded data removed]",
      "text/html": [
       "\n",
       "            <div style=\"display: inline-block;\">\n",
       "                <div class=\"jupyter-widgets widget-label\" style=\"text-align: center;\">\n",
       "                    Figure\n",
       "                </div>\n",
       "                <img src='data:image/png;base64,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' width=640.0/>\n",
       "            </div>\n",
       "        "
      ],
      "text/plain": [
       "Canvas(toolbar=Toolbar(toolitems=[('Home', 'Reset original view', 'home', 'home'), ('Back', 'Back to previous …"
      ]
     },
     "metadata": {},
     "output_type": "display_data"
    }
   ],
   "source": [
    "import matplotlib\n",
    "%matplotlib widget\n",
    "data = df_train_x.to_numpy()\n",
    "ii = 0\n",
    "while ii < len(data):\n",
    "    index = np.random.randint(0, len(data))\n",
    "    label = df_train_y[index]\n",
    "    if label == 2.0:\n",
    "        plt.figure()\n",
    "        plt.plot(range(len(data[index, :])), data[index, :])\n",
    "        plt.title(f\"Lightcurve at index {index} with label {label}\")\n",
    "        break\n",
    "    ii += 1"
   ]
  },
  {
   "cell_type": "markdown",
   "metadata": {
    "_uuid": "3e03e00f593729a6fb36841cde640a0cb366bf4f"
   },
   "source": [
    "### Process data and create numpy matrices"
   ]
  },
  {
   "cell_type": "code",
   "execution_count": 8,
   "metadata": {
    "_uuid": "504e0ecddfafc27cdf49022f2950566373c0d6fe",
    "collapsed": true,
    "trusted": true
   },
   "outputs": [],
   "source": [
    "def np_X_Y_from_df(df):\n",
    "    df = shuffle(df)\n",
    "    df_X = df.drop(['LABEL'], axis=1)\n",
    "    X = np.array(df_X)\n",
    "    Y_raw = np.array(df['LABEL']).reshape((len(df['LABEL']),1))\n",
    "    Y = Y_raw == 2\n",
    "    return X, Y"
   ]
  },
  {
   "cell_type": "code",
   "execution_count": 9,
   "metadata": {
    "_uuid": "90a0ea43b0ef441d5ff094adec4d6a1e2030ab58",
    "trusted": true
   },
   "outputs": [
    {
     "name": "stdout",
     "output_type": "stream",
     "text": [
      "Applying Fourier...\n",
      "Normalizing...\n",
      "Applying Gaussian Filter...\n",
      "Standardizing...\n",
      "Finished Processing!\n"
     ]
    }
   ],
   "source": [
    "# Process dataset\n",
    "LFP = LightFluxProcessor(\n",
    "    fourier=True,\n",
    "    normalize=True,\n",
    "    gaussian=True,\n",
    "    standardize=True)\n",
    "df_train_x, df_dev_x = LFP.process(df_train_x, df_dev_x)\n",
    "\n",
    "# display(df_train_x)\n",
    "\n",
    "\n",
    "# Rejoin X and Y\n",
    "df_train_processed = pd.DataFrame(df_train_x).join(pd.DataFrame(df_train_y))\n",
    "df_dev_processed = pd.DataFrame(df_dev_x).join(pd.DataFrame(df_dev_y))\n",
    "\n",
    "# Load X and Y numpy arrays\n",
    "X_train, Y_train = np_X_Y_from_df(df_train_processed)\n",
    "X_dev, Y_dev = np_X_Y_from_df(df_dev_processed)"
   ]
  },
  {
   "cell_type": "markdown",
   "metadata": {
    "_uuid": "0eb999422374f71b0f44292382dee19239332f37"
   },
   "source": [
    "### Describe datasets"
   ]
  },
  {
   "cell_type": "code",
   "execution_count": 10,
   "metadata": {
    "_uuid": "744f7863433eb3b36ca7e93abd2311dd658c790b",
    "trusted": true
   },
   "outputs": [
    {
     "name": "stdout",
     "output_type": "stream",
     "text": [
      "X_train.shape:  (5087, 1598)\n",
      "Y_train.shape:  (5087, 1)\n",
      "X_dev.shape:  (570, 1598)\n",
      "Y_dev.shape:  (570, 1)\n",
      "n_x:  1598\n",
      "num_examples:  5087\n",
      "n_y:  1\n"
     ]
    }
   ],
   "source": [
    "(num_examples, n_x) = X_train.shape # (n_x: input size, m : number of examples in the train set)\n",
    "n_y = Y_train.shape[1] # n_y : output size\n",
    "print(\"X_train.shape: \", X_train.shape)\n",
    "print(\"Y_train.shape: \", Y_train.shape)\n",
    "print(\"X_dev.shape: \", X_dev.shape)\n",
    "print(\"Y_dev.shape: \", Y_dev.shape)\n",
    "print(\"n_x: \", n_x)\n",
    "print(\"num_examples: \", num_examples)\n",
    "print(\"n_y: \", n_y)"
   ]
  },
  {
   "cell_type": "markdown",
   "metadata": {
    "_uuid": "b4783cdb1902414c346e39c709b5619788e4b748"
   },
   "source": [
    "## Build Model, Train, and Predict"
   ]
  },
  {
   "cell_type": "code",
   "execution_count": 11,
   "metadata": {
    "_uuid": "cea07ef250b87a2d326410dd5985e9cec1517c46",
    "trusted": true
   },
   "outputs": [
    {
     "name": "stdout",
     "output_type": "stream",
     "text": [
      "Training...\n"
     ]
    },
    {
     "name": "stderr",
     "output_type": "stream",
     "text": [
      "/root/anaconda3/envs/acc_env/lib/python3.9/site-packages/sklearn/utils/validation.py:1339: DataConversionWarning: A column-vector y was passed when a 1d array was expected. Please change the shape of y to (n_samples, ), for example using ravel().\n",
      "  y = column_or_1d(y, warn=True)\n"
     ]
    },
    {
     "name": "stdout",
     "output_type": "stream",
     "text": [
      "Finished Training!\n"
     ]
    }
   ],
   "source": [
    "model = LinearSVC()\n",
    "\n",
    "\n",
    "X_train_sm, Y_train_sm = X_train, Y_train\n",
    "\n",
    "# Train\n",
    "print(\"Training...\")\n",
    "model.fit(X_train_sm, Y_train_sm)\n",
    "\n",
    "train_outputs = model.predict(X_train_sm)\n",
    "dev_outputs = model.predict(X_dev)\n",
    "print(\"Finished Training!\")"
   ]
  },
  {
   "cell_type": "code",
   "execution_count": 12,
   "metadata": {},
   "outputs": [
    {
     "data": {
      "text/plain": [
       "(570,)"
      ]
     },
     "execution_count": 12,
     "metadata": {},
     "output_type": "execute_result"
    }
   ],
   "source": [
    "dev_outputs.shape"
   ]
  },
  {
   "cell_type": "markdown",
   "metadata": {
    "_uuid": "1d89125e42171a7bfda48da4313b92ca0b04d866"
   },
   "source": [
    "## Calculate and Display Metrics"
   ]
  },
  {
   "cell_type": "code",
   "execution_count": 13,
   "metadata": {
    "_uuid": "9e3b8584de8273df5d255d6cd0eebbb0590c458c",
    "trusted": true
   },
   "outputs": [
    {
     "name": "stdout",
     "output_type": "stream",
     "text": [
      " \n",
      " \n",
      "Train Set Error 0.0\n",
      "Dev Set Error 0.012280701754386003\n",
      "------------\n",
      "Precision - Train Set 1.0\n",
      "Precision - Dev Set 0.4166666666666667\n",
      "------------\n",
      "Recall - Train Set 1.0\n",
      "Recall - Dev Set 1.0\n",
      "------------\n",
      "Confusion Matrix - Train Set\n",
      "[[5050    0]\n",
      " [   0   37]]\n",
      "Confusion Matrix - Dev Set\n",
      "[[558   7]\n",
      " [  0   5]]\n",
      "------------\n",
      " \n",
      " \n",
      "------------\n",
      "classification_report_train\n",
      "              precision    recall  f1-score   support\n",
      "\n",
      "       False       1.00      1.00      1.00      5050\n",
      "        True       1.00      1.00      1.00        37\n",
      "\n",
      "    accuracy                           1.00      5087\n",
      "   macro avg       1.00      1.00      1.00      5087\n",
      "weighted avg       1.00      1.00      1.00      5087\n",
      "\n",
      "classification_report_dev\n",
      "              precision    recall  f1-score   support\n",
      "\n",
      "       False       1.00      0.99      0.99       565\n",
      "        True       0.42      1.00      0.59         5\n",
      "\n",
      "    accuracy                           0.99       570\n",
      "   macro avg       0.71      0.99      0.79       570\n",
      "weighted avg       0.99      0.99      0.99       570\n",
      "\n"
     ]
    }
   ],
   "source": [
    "# Metrics\n",
    "train_outputs = model.predict(X_train_sm)\n",
    "dev_outputs = model.predict(X_dev)\n",
    "train_outputs = np.rint(train_outputs)\n",
    "dev_outputs = np.rint(dev_outputs)\n",
    "accuracy_train = accuracy_score(Y_train_sm, train_outputs)\n",
    "accuracy_dev = accuracy_score(Y_dev, dev_outputs)\n",
    "precision_train = precision_score(Y_train_sm, train_outputs)\n",
    "precision_dev = precision_score(Y_dev, dev_outputs)\n",
    "recall_train = recall_score(Y_train_sm, train_outputs)\n",
    "recall_dev = recall_score(Y_dev, dev_outputs)\n",
    "confusion_matrix_train = confusion_matrix(Y_train_sm, train_outputs)\n",
    "confusion_matrix_dev = confusion_matrix(Y_dev, dev_outputs)\n",
    "classification_report_train = classification_report(Y_train_sm, train_outputs)\n",
    "classification_report_dev = classification_report(Y_dev, dev_outputs)\n",
    "\n",
    "print(\" \")\n",
    "print(\" \")\n",
    "print(\"Train Set Error\", 1.0 - accuracy_train)\n",
    "print(\"Dev Set Error\", 1.0 - accuracy_dev)\n",
    "print(\"------------\")\n",
    "print(\"Precision - Train Set\", precision_train)\n",
    "print(\"Precision - Dev Set\", precision_dev)\n",
    "print(\"------------\")\n",
    "print(\"Recall - Train Set\", recall_train)\n",
    "print(\"Recall - Dev Set\", recall_dev)\n",
    "print(\"------------\")\n",
    "print(\"Confusion Matrix - Train Set\")\n",
    "print(confusion_matrix_train)\n",
    "print(\"Confusion Matrix - Dev Set\")\n",
    "print(confusion_matrix_dev)\n",
    "print(\"------------\")\n",
    "print(\" \")\n",
    "print(\" \")\n",
    "print(\"------------\")\n",
    "print(\"classification_report_train\")\n",
    "print(classification_report_train)\n",
    "print(\"classification_report_dev\")\n",
    "print(classification_report_dev)"
   ]
  },
  {
   "cell_type": "code",
   "execution_count": null,
   "metadata": {
    "_uuid": "1b8f75a0a1976000bc34e71a65c512d124825097",
    "collapsed": true,
    "trusted": true
   },
   "outputs": [],
   "source": []
  }
 ],
 "metadata": {
  "kernelspec": {
   "display_name": "acc_env",
   "language": "python",
   "name": "python3"
  },
  "language_info": {
   "codemirror_mode": {
    "name": "ipython",
    "version": 3
   },
   "file_extension": ".py",
   "mimetype": "text/x-python",
   "name": "python",
   "nbconvert_exporter": "python",
   "pygments_lexer": "ipython3",
   "version": "3.9.20"
  }
 },
 "nbformat": 4,
 "nbformat_minor": 1
}
